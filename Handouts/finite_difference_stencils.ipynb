{
 "cells": [
  {
   "cell_type": "code",
   "execution_count": 1,
   "metadata": {},
   "outputs": [
    {
     "data": {
      "text/plain": [
       "mkfdstencil"
      ]
     },
     "execution_count": 1,
     "metadata": {},
     "output_type": "execute_result"
    }
   ],
   "source": [
    "\"\"\"\n",
    "    c = mkfdstencil(x, xbar, k)\n",
    "\n",
    "Compute the coefficients `c` in a finite difference approximation of a function\n",
    "defined at the grid points `x`, evaluated at `xbar`, of order `k`.\n",
    "\"\"\"\n",
    "function mkfdstencil(x, xbar, k)\n",
    "    n = length(x)\n",
    "    A = @. (x[:]' - xbar) ^ (0:n-1) / factorial(0:n-1)\n",
    "    b = (1:n) .== k+1\n",
    "    c = A \\ b\n",
    "end"
   ]
  },
  {
   "cell_type": "code",
   "execution_count": 2,
   "metadata": {},
   "outputs": [
    {
     "data": {
      "text/plain": [
       "3-element Vector{Float64}:\n",
       "  1.0\n",
       " -2.0\n",
       "  1.0"
      ]
     },
     "execution_count": 2,
     "metadata": {},
     "output_type": "execute_result"
    }
   ],
   "source": [
    "mkfdstencil([-1 0 1], 0, 2)   # Centered 2nd derivative"
   ]
  },
  {
   "cell_type": "code",
   "execution_count": 3,
   "metadata": {},
   "outputs": [
    {
     "data": {
      "text/plain": [
       "3-element Vector{Float64}:\n",
       " -1.5\n",
       "  2.0\n",
       " -0.5"
      ]
     },
     "execution_count": 3,
     "metadata": {},
     "output_type": "execute_result"
    }
   ],
   "source": [
    "mkfdstencil([0 1 2], 0, 1)    # One-sided (right) 1st derivative"
   ]
  },
  {
   "cell_type": "code",
   "execution_count": 5,
   "metadata": {},
   "outputs": [
    {
     "data": {
      "text/plain": [
       "5-element Vector{Rational{Int64}}:\n",
       " -1//12\n",
       "  4//3\n",
       " -5//2\n",
       "  4//3\n",
       " -1//12"
      ]
     },
     "execution_count": 5,
     "metadata": {},
     "output_type": "execute_result"
    }
   ],
   "source": [
    "mkfdstencil(-2:2, 0//1, 2)       # 4th order 5-point stencil, rational"
   ]
  },
  {
   "cell_type": "code",
   "execution_count": null,
   "metadata": {},
   "outputs": [],
   "source": []
  }
 ],
 "metadata": {
  "kernelspec": {
   "display_name": "Julia 1.9.2",
   "language": "julia",
   "name": "julia-1.9"
  },
  "language_info": {
   "file_extension": ".jl",
   "mimetype": "application/julia",
   "name": "julia",
   "version": "1.9.2"
  }
 },
 "nbformat": 4,
 "nbformat_minor": 2
}
