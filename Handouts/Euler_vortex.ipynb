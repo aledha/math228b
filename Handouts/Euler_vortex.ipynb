{
 "cells": [
  {
   "cell_type": "code",
   "execution_count": 3,
   "metadata": {},
   "outputs": [
    {
     "data": {
      "text/plain": [
       "euler_vortex (generic function with 1 method)"
      ]
     },
     "execution_count": 3,
     "metadata": {},
     "output_type": "execute_result"
    }
   ],
   "source": [
    "function euler_vortex(x, y, time, pars)\n",
    "    γ  = 1.4\n",
    "    rc = pars[1]\n",
    "    ϵ  = pars[2]\n",
    "    M₀ = pars[3]\n",
    "    θ  = pars[4]\n",
    "    x₀ = pars[5]\n",
    "    y₀ = pars[6]\n",
    "\n",
    "    r∞ = 1\n",
    "    u∞ = 1\n",
    "    E∞ = 1/(γ*M₀^2*(γ - 1)) + 1/2\n",
    "    p∞ = (γ - 1) * (E∞ - 1/2)\n",
    "    ubar = u∞ * cos(θ)\n",
    "    vbar = u∞ * sin(θ)\n",
    "    f = @. (1 - ((x - x₀) - ubar*time)^2 - ((y - y₀) - vbar*time)^2) / rc^2\n",
    "\n",
    "    u = @. u∞ * (cos(θ) - ϵ*((y - y₀)-vbar*time) / (2π*rc) * exp(f/2))\n",
    "    v = @. u∞ * (sin(θ) + ϵ*((x - x₀)-ubar*time) / (2π*rc) * exp(f/2))\n",
    "    r = @. r∞ * (1 - ϵ^2 * (γ - 1) * M₀^2/(8π^2) * exp(f))^(1/(γ-1))\n",
    "    p = @. p∞ * (1 - ϵ^2 * (γ - 1) * M₀^2/(8π^2) * exp(f))^(γ/(γ-1))\n",
    "    \n",
    "    ru = @. r*u\n",
    "    rv = @. r*v\n",
    "    rE = @. p/(γ - 1) + 1/2 * (ru^2 + rv^2) / r\n",
    "    \n",
    "    r, ru, rv, rE\n",
    "end"
   ]
  },
  {
   "cell_type": "code",
   "execution_count": 4,
   "metadata": {},
   "outputs": [
    {
     "data": {
      "image/png": "[encoded data removed]",
      "text/plain": [
       "Figure(PyObject <Figure size 640x480 with 1 Axes>)"
      ]
     },
     "metadata": {},
     "output_type": "display_data"
    },
    {
     "data": {
      "text/plain": [
       "(0.2, 10.0, 0.2, 10.0)"
      ]
     },
     "execution_count": 4,
     "metadata": {},
     "output_type": "execute_result"
    }
   ],
   "source": [
    "using PyPlot\n",
    "\n",
    "h = 0.2\n",
    "s = h:h:10\n",
    "x = repeat(s, 1, length(s))\n",
    "y = Matrix(x')\n",
    "\n",
    "pars = [0.5, 1, 0.5, π/4, 2.5, 2.5]\n",
    "r, ru, rv, rE = euler_vortex(x, y, 0, pars)\n",
    "\n",
    "clf()\n",
    "contourf(x, y, Matrix(r), 0.8:0.03:1.01)\n",
    "axis(\"equal\")"
   ]
  },
  {
   "cell_type": "code",
   "execution_count": null,
   "metadata": {},
   "outputs": [],
   "source": []
  }
 ],
 "metadata": {
  "kernelspec": {
   "display_name": "Julia 1.9.2",
   "language": "julia",
   "name": "julia-1.9"
  },
  "language_info": {
   "file_extension": ".jl",
   "mimetype": "application/julia",
   "name": "julia",
   "version": "1.9.2"
  }
 },
 "nbformat": 4,
 "nbformat_minor": 2
}
