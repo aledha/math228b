{
 "cells": [
  {
   "cell_type": "code",
   "execution_count": 1,
   "metadata": {},
   "outputs": [],
   "source": [
    "using PyPlot, SparseArrays\n",
    "import Delaunator as D"
   ]
  },
  {
   "cell_type": "code",
   "execution_count": 17,
   "metadata": {},
   "outputs": [
    {
     "data": {
      "text/plain": [
       "tplot"
      ]
     },
     "metadata": {},
     "output_type": "display_data"
    }
   ],
   "source": [
    "\"\"\"\n",
    "    edges, boundary_indices, emap = all_edges(t)\n",
    "\n",
    "Handout from mesh_utilities\n",
    "Find all unique edges in the triangulation `t` (ne x 2 array)\n",
    "Second output is indices to the boundary edges.\n",
    "Third output emap (nt x 3 array) is a mapping from local triangle edges\n",
    "to the global edge list, i.e., emap[it,k] is the global edge number\n",
    "for local edge k (1,2,3) in triangle it.\n",
    "\"\"\"\n",
    "function all_edges(t)\n",
    "    etag = vcat(t[:,[1,2]], t[:,[2,3]], t[:,[3,1]])\n",
    "    etag = hcat(sort(etag, dims=2), 1:3*size(t,1))\n",
    "    etag = sortslices(etag, dims=1)\n",
    "    dup = all(etag[2:end,1:2] - etag[1:end-1,1:2] .== 0, dims=2)[:]\n",
    "    keep = .![false;dup]\n",
    "    edges = etag[keep,1:2]\n",
    "    emap = cumsum(keep)\n",
    "    invpermute!(emap, etag[:,3])\n",
    "    emap = reshape(emap,:,3)\n",
    "    dup = [dup;false]\n",
    "    dup = dup[keep]\n",
    "    bndix = findall(.!dup)\n",
    "    return edges, bndix, emap\n",
    "end\n",
    "\n",
    "\"\"\"\n",
    "    t = delaunay(p)\n",
    "\n",
    "Delaunay triangulation `t` of N x 2 node array `p`.\n",
    "\"\"\"\n",
    "delaunay(p) = collect(reinterpret(reshape, Int32, \n",
    "        D.triangulate(D.PointsFromMatrix(p')).triangles)')\n",
    "\n",
    "\"\"\"\n",
    "inside = inpolygon(p, pv)\n",
    "\n",
    "Determine if each point in the N x 2 node array `p` is inside the polygon\n",
    "described by the NE x 2 node array `pv`.\n",
    "\"\"\"\n",
    "function inpolygon(p, pv)\n",
    "    if ndims(p) == 2 && size(p,2) == 2\n",
    "        return [ inpolygon(p[ip,:], pv) for ip = 1:size(p,1) ]\n",
    "    end\n",
    "    cn = 0\n",
    "    for i = 1:size(pv,1) - 1\n",
    "        if pv[i,2] <= p[2] && pv[i+1,2] > p[2] ||\n",
    "            pv[i,2] > p[2] && pv[i+1,2] <= p[2]\n",
    "            vt = (p[2] - pv[i,2]) / (pv[i+1,2] - pv[i,2])\n",
    "            if p[1] < pv[i,1] + vt * (pv[i+1,1] - pv[i,1])\n",
    "                cn += 1\n",
    "            end\n",
    "        end\n",
    "    end\n",
    "    return cn % 2 == 1\n",
    "end\n",
    "\n",
    "\"\"\"\n",
    "    e = boundary_nodes(t)\n",
    "\n",
    "Find all boundary nodes in the triangulation `t`.\n",
    "\"\"\"\n",
    "function boundary_nodes(t)\n",
    "    edges, boundary_indices, _ = all_edges(t)\n",
    "    return unique(edges[boundary_indices,:][:])\n",
    "end\n",
    "\n",
    "\"\"\"\n",
    "    tplot(p, t, u=nothing)\n",
    "\n",
    "If `u` == nothing: Plot triangular mesh with nodes `p` and triangles `t`.\n",
    "If `u` == solution vector: Plot filled contour color plot of solution `u`.\n",
    "\"\"\"\n",
    "function tplot(p, t, u=nothing)\n",
    "    clf()\n",
    "    axis(\"equal\")\n",
    "    if u == nothing\n",
    "        tripcolor(p[:,1], p[:,2], Array(t .- 1), 0*t[:,1],\n",
    "                  cmap=\"Set3\", edgecolors=\"k\", linewidth=1)\n",
    "    else\n",
    "        tricontourf(p[:,1], p[:,2], Array(t .- 1), u[:], 20)\n",
    "    end\n",
    "    draw()\n",
    "end"
   ]
  },
  {
   "cell_type": "code",
   "execution_count": 18,
   "metadata": {},
   "outputs": [
    {
     "data": {
      "text/plain": [
       "pmesh (generic function with 2 methods)"
      ]
     },
     "metadata": {},
     "output_type": "display_data"
    }
   ],
   "source": [
    "# Helper functions\n",
    "\n",
    "function area(p, triangle)\n",
    "    points = [p[triangle[1],:] p[triangle[2],:] p[triangle[3],:]]\n",
    "    x, y = points[1,:], points[2,:]\n",
    "    return 1/2 * abs(x[1]*(y[2]-y[3]) + x[2]*(y[3]-y[1]) + x[3]*(y[1]-y[2]))\n",
    "end\n",
    "\n",
    "function findlargest(p, t)\n",
    "    maxarea = 0\n",
    "    maxindex = 0\n",
    "    for i = 1:size(t, 1)\n",
    "        if area(p, t[i, :]) > maxarea\n",
    "            maxarea = area(p, t[i, :])\n",
    "            maxindex = i\n",
    "        end\n",
    "    end\n",
    "    return maxarea, maxindex\n",
    "end\n",
    "\n",
    "function circumcenter(A, B, C)\n",
    "    # Formula obtained from https://en.wikipedia.org/wiki/Circumcircle\n",
    "    B = B - A\n",
    "    C = C - A\n",
    "    D = 2 * (B[1]*C[2] - B[2]*C[1])\n",
    "    Ux = 1 / D * (C[2] * (B[1]^2 + B[2]^2) - B[2] * (C[1]^2 + C[2]^2))\n",
    "    Uy = 1 / D * (B[1] * (C[1]^2 + C[2]^2) - C[1] * (B[1]^2 + B[2]^2))\n",
    "    U = [Ux + A[1], Uy + A[2]]\n",
    "    return U\n",
    "end\n",
    "\n",
    "function deletetriangles(p, pv, t)\n",
    "    badtriangles = []\n",
    "    for i = 1:size(t, 1)\n",
    "        triangle = t[i, :]\n",
    "        midpoint = 1/3 * (p[triangle[1], :] + p[triangle[2],:] + p[triangle[3],:])\n",
    "        if inpolygon(midpoint, pv) == false || area(p, triangle) < 10^-12\n",
    "            badtriangles = push!(badtriangles, i)\n",
    "        end\n",
    "    end\n",
    "    return t[begin:end .∉ [badtriangles],:]\n",
    "end\n",
    "\n",
    "function pmesh(pv, hmax, nref, savesolutions = false)\n",
    "    N = size(pv, 1) - 1\n",
    "    p = pv[1:end-1,:]\n",
    "    # b) Adding nodes along each segment\n",
    "    for i = 1:N\n",
    "        segmentlength = sqrt((pv[i,1] - pv[i+1,1])^2 + (pv[i,2] - pv[i+1,2])^2)\n",
    "        numnodes = trunc(Int32, ceil(segmentlength/hmax)) + 1\n",
    "        if numnodes > 2\n",
    "            extranodes = [LinRange(pv[i,1], pv[i+1,1], numnodes), LinRange(pv[i,2], pv[i+1,2], numnodes)]\n",
    "            extranodes = [extranodes[1][begin+1:end-1] extranodes[2][begin+1:end-1]]\n",
    "            p = vcat(p, extranodes)\n",
    "        end\n",
    "    end\n",
    "    \n",
    "    # c)\n",
    "    t = delaunay(p)\n",
    "    \n",
    "    # d)\n",
    "    t = deletetriangles(p, pv, t)\n",
    "    if savesolutions\n",
    "        allp = [copy(p)]\n",
    "        allt = [copy(t)]\n",
    "    end\n",
    "\n",
    "    # e)-g)\n",
    "    maxarea, maxindex = findlargest(p, t)\n",
    "    while maxarea > hmax^2 /2\n",
    "        indx = t[maxindex,:]\n",
    "        circ = circumcenter(p[indx[1],:], p[indx[2],:], p[indx[3],:])\n",
    "        p = vcat(p, reshape(circ,(1,2)))\n",
    "        if savesolutions\n",
    "            push!(allp, copy(p))\n",
    "            push!(allt, copy(t))\n",
    "        end\n",
    "    \n",
    "        t = delaunay(p)\n",
    "        t = deletetriangles(p, pv, t)\n",
    "        maxarea, maxindex = findlargest(p, t)\n",
    "        if savesolutions\n",
    "            push!(allp, copy(p))\n",
    "            push!(allt, copy(t))\n",
    "        end\n",
    "    end\n",
    "\n",
    "    # h)\n",
    "    for i = 1:nref\n",
    "        edges, bndix, emap = all_edges(t)\n",
    "        centerpoints = zeros(size(edges, 1), 2)\n",
    "        for j = 1:size(edges, 1)\n",
    "            centerpoints[j,:] = (p[edges[j,1],:] + p[edges[j,2],:])/2\n",
    "        end\n",
    "        p = vcat(p, centerpoints)\n",
    "        t = delaunay(p)\n",
    "        t = deletetriangles(p, pv, t)\n",
    "        if savesolutions\n",
    "            push!(allp, copy(p))\n",
    "            push!(allt, copy(t))    \n",
    "        end\n",
    "    end\n",
    "    \n",
    "    e = boundary_nodes(t)\n",
    "    if savesolutions\n",
    "        return p, t, e, allp, allt\n",
    "    else\n",
    "        return p, t, e\n",
    "    end\n",
    "end"
   ]
  },
  {
   "cell_type": "code",
   "execution_count": 174,
   "metadata": {},
   "outputs": [
    {
     "data": {
      "image/png": "[encoded data removed]",
      "text/plain": [
       "Figure(PyObject <Figure size 640x480 with 1 Axes>)"
      ]
     },
     "metadata": {},
     "output_type": "display_data"
    }
   ],
   "source": [
    "pv = [0 0; 5 0; 5 1; 0 1; 0 0]\n",
    "p, t, e = pmesh(pv, 1, 0)\n",
    "edges, bndix, emap = all_edges(t)\n",
    "\n",
    "clf()\n",
    "tplot(p, t)\n",
    "gcf()"
   ]
  },
  {
   "cell_type": "code",
   "execution_count": 175,
   "metadata": {},
   "outputs": [
    {
     "data": {
      "text/plain": [
       "1×4 Matrix{Float64}:\n",
       " 0.0  0.0  0.0  1.0"
      ]
     },
     "metadata": {},
     "output_type": "display_data"
    },
    {
     "data": {
      "text/plain": [
       "1×4 Matrix{Float64}:\n",
       " 5.0  0.0  5.0  1.0"
      ]
     },
     "metadata": {},
     "output_type": "display_data"
    },
    {
     "data": {
      "text/plain": [
       "10×4 Matrix{Float64}:\n",
       " 0.0  0.0  1.0  0.0\n",
       " 5.0  0.0  4.0  0.0\n",
       " 5.0  1.0  4.0  1.0\n",
       " 0.0  1.0  1.0  1.0\n",
       " 1.0  0.0  2.0  0.0\n",
       " 2.0  0.0  3.0  0.0\n",
       " 3.0  0.0  4.0  0.0\n",
       " 4.0  1.0  3.0  1.0\n",
       " 3.0  1.0  2.0  1.0\n",
       " 2.0  1.0  1.0  1.0"
      ]
     },
     "metadata": {},
     "output_type": "display_data"
    }
   ],
   "source": [
    "function waveguide_edges(p, t)\n",
    "    edges, bndix, emap = all_edges(t)\n",
    "    bndegdes = edges[bndix,:]\n",
    "\n",
    "    inindx, outindx, wallindx = [], [], []\n",
    "    for i = 1:size(bndegdes,1)\n",
    "        if p[bndegdes[i,1],1] == 0 && p[bndegdes[i,2],1] == 0\n",
    "            push!(inindx, i)\n",
    "        elseif p[bndegdes[i,1],1] == 5 && p[bndegdes[i,2],1] == 5\n",
    "            push!(outindx, i)\n",
    "        else\n",
    "            push!(wallindx, i)\n",
    "        end\n",
    "    end\n",
    "\n",
    "    ein = bndegdes[inindx,:]\n",
    "    eout = bndegdes[outindx,:]\n",
    "    ewall = bndegdes[wallindx,:]\n",
    "\n",
    "    return ein, eout, ewall\n",
    "end\n",
    "\n",
    "pv = [0 0; 5 0; 5 1; 0 1; 0 0]\n",
    "p, t, e = pmesh(pv, 1, 0)\n",
    "\n",
    "ein, eout, ewall = waveguide_edges(p,t)\n",
    "\n",
    "display([p[ein[:,1],:] p[ein[:,2],:]])\n",
    "display([p[eout[:,1],:] p[eout[:,2],:]])\n",
    "display([p[ewall[:,1],:] p[ewall[:,2],:]])\n"
   ]
  },
  {
   "cell_type": "code",
   "execution_count": null,
   "metadata": {},
   "outputs": [],
   "source": []
  }
 ],
 "metadata": {
  "kernelspec": {
   "display_name": "Julia 1.10.0",
   "language": "julia",
   "name": "julia-1.10"
  },
  "language_info": {
   "file_extension": ".jl",
   "mimetype": "application/julia",
   "name": "julia",
   "version": "1.10.0"
  },
  "orig_nbformat": 4
 },
 "nbformat": 4,
 "nbformat_minor": 2
}
